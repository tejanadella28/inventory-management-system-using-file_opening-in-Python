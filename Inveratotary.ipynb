{
 "cells": [
  {
   "cell_type": "code",
   "execution_count": 11,
   "id": "067bbc04",
   "metadata": {},
   "outputs": [
    {
     "name": "stdout",
     "output_type": "stream",
     "text": [
      "------------------------\n",
      "Enter your name         :teja\n",
      "Enter your phone_num    :356786980980\n",
      "Enter your mail         :rt@gmail.com\n",
      "Enter product id        :3\n",
      "Enter product Quntity   :2\n",
      "------------------------\n",
      "-------------------------\n",
      "product name   : coffee\n",
      "Quantity       : 2\n",
      "product price  : 5 /-\n",
      "-------------------------\n",
      "Bill Amount    : 10\n",
      "-------------------------\n",
      "------------TQ-----------\n"
     ]
    }
   ],
   "source": [
    "import time #import time \n",
    "\n",
    "#reading the inventatory text file for data.\n",
    "fd = open(\"inventatory.txt\",\"r\")\n",
    "product=fd.read().split(\"\\n\")\n",
    "fd.close()\n",
    "\n",
    "# user inputs for bill generation.\n",
    "ui_name  = input(\"Enter your name         :\")\n",
    "ui_num   = input(\"Enter your phone_num    :\")\n",
    "ui_email = input(\"Enter your mail         :\")\n",
    "ui_id    = input(\"Enter product id        :\")\n",
    "ui_qu    = input(\"Enter product Quntity   :\")\n",
    "# reading the each single product in inventatory text file.\n",
    "updated_product_cart =[]\n",
    "for j in product:\n",
    "    prod_deatils = j.split(',') # for identification each data in file we need to split the each data in file.\n",
    "   #conditions for generating the bill..\n",
    "\n",
    "\n",
    "    if(prod_deatils[0] == ui_id):\n",
    "        if(int(ui_qu)<=int(prod_deatils[3])): #condition for the bill if required user_qu is less the qu in our inventatory text file.\n",
    "            print(\"-------------------------\")\n",
    "            print(\"product name   :\",prod_deatils[1])\n",
    "            print(\"Quantity       :\",ui_qu)\n",
    "            print(\"product price  :\",prod_deatils[2],'/-')\n",
    "            print(\"-------------------------\")\n",
    "            print(\"Bill Amount    :\",int(prod_deatils[2])*int(ui_qu))\n",
    "            print(\"-------------------------\")\n",
    "            prod_deatils[3]=str(int(prod_deatils[3])-int(ui_qu))\n",
    "            \n",
    "          # user deatils are store in another txt.file.  \n",
    "            \n",
    "            fd = open(\"customer_deatils\",\"a\")   # deatils are store in customer_deatils.txt file.\n",
    "            sale = ui_name+\",\"+ui_num+\",\"+ui_email+\",\"+ui_id+\",\"+time.ctime()+\"\\n\"  # this deatils are store in customer_deatils.txt file.\n",
    "            fd.write(sale)\n",
    "            fd.close()\n",
    "            \n",
    "           # condition for the bill if required user_qu is less the qu in our inventatory text file.\n",
    "            \n",
    "        else:\n",
    "            print(\"Sorry of less Stock.\")\n",
    "            print(\"We Have only this:\",prod_deatils[3],\"quantity\")\n",
    "            print(\"would you add this Quantity:\")\n",
    "            ch = input(\"press:Y/N\")\n",
    "            if(ch =='Y'or ch =='y'):\n",
    "                print(\"------------------------\")\n",
    "                print(\"product name   :\",prod_deatils[1])\n",
    "                print(\"Quantity       :\",prod_deatils[2])\n",
    "                print(\"product price  :\",prod_deatils[3],'/-')\n",
    "                print(\"-------------------------\")\n",
    "                print(\"Bill Amount    :\",int(prod_deatils[3])*int(prod_deatils[2]))\n",
    "                print(\"-------------------------\")\n",
    "                prod_deatils[3]='0'\n",
    "            else:\n",
    "                print(\"Thank you.!\")\n",
    "                \n",
    "     # update the data in inventatory text file after the bill generation.        \n",
    "                \n",
    "    updated_product_cart.append(prod_deatils)\n",
    "lst=[]       \n",
    "for i in updated_product_cart:\n",
    "    prod = i[0]+\",\"+i[1]+\",\"+i[2]+\",\"+i[3]+'\\n'\n",
    "    lst.append(prod)\n",
    "lst[-1] = lst[-1][:-1]  \n",
    "fd = open(\"inventatory.txt\",\"w\")\n",
    "for i in lst:\n",
    "    fd.write(i)\n",
    "fd.close()\n",
    "print(\"------------TQ-----------\")"
   ]
  },
  {
   "cell_type": "markdown",
   "id": "0ec87a9d",
   "metadata": {
    "scrolled": true
   },
   "source": [
    "## "
   ]
  },
  {
   "cell_type": "code",
   "execution_count": null,
   "id": "2a746548",
   "metadata": {},
   "outputs": [],
   "source": []
  }
 ],
 "metadata": {
  "kernelspec": {
   "display_name": "Python 3 (ipykernel)",
   "language": "python",
   "name": "python3"
  },
  "language_info": {
   "codemirror_mode": {
    "name": "ipython",
    "version": 3
   },
   "file_extension": ".py",
   "mimetype": "text/x-python",
   "name": "python",
   "nbconvert_exporter": "python",
   "pygments_lexer": "ipython3",
   "version": "3.11.5"
  }
 },
 "nbformat": 4,
 "nbformat_minor": 5
}
